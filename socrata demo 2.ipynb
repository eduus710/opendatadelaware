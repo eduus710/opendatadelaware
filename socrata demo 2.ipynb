{
 "cells": [
  {
   "cell_type": "markdown",
   "metadata": {},
   "source": [
    "#### As an example we could use the Socrata API to mass populate a MYSQL database from the portal\n",
    "- we have metadata so we can create DDL\n",
    "- we have CSV or JSON data so we can import\n",
    "\n",
    "#### let's walk thru populating a single dataset\n",
    "first we need some DDL generators"
   ]
  },
  {
   "cell_type": "code",
   "execution_count": 1,
   "metadata": {},
   "outputs": [
    {
     "name": "stdout",
     "output_type": "stream",
     "text": [
      "DROP TABLE IF EXISTS `jx5n-jk6m`;\n",
      "\n",
      "CREATE TABLE `jx5n-jk6m` (\n",
      "`age range` TEXT NULL,\n",
      "`zip code` TEXT NULL,\n",
      "`city` TEXT NULL,\n",
      "`gender` TEXT NULL,\n",
      "`donors` TEXT NULL,\n",
      "`non-donors` TEXT NULL,\n",
      "`id card donors` TEXT NULL,\n",
      "`id card non-donors` TEXT NULL,\n",
      "`driver license donors` TEXT NULL,\n",
      "`driver license non-donors` TEXT NULL,\n",
      "`id card/driver license donors` TEXT NULL,\n",
      "`id card/driver license non-donors` TEXT NULL);\n",
      "\n",
      "LOAD DATA INFILE './jx5n-jk6m.csv'\n",
      "REPLACE INTO TABLE `jx5n-jk6m`\n",
      "FIELDS TERMINATED BY ',' OPTIONALLY ENCLOSED BY '\"'\n",
      "LINES TERMINATED BY '\\n' \n",
      "IGNORE 1 LINES; \n",
      "\n"
     ]
    }
   ],
   "source": [
    "from decouple import config\n",
    "from csv import reader\n",
    "from mysql import connector\n",
    "\n",
    "# generate and execute DROP TABLE for specified tablename  \n",
    "#\n",
    "def drop_raw_table(mycursor, tablename):\n",
    "    ddl = \"DROP TABLE IF EXISTS `{}`;\".format(tablename)\n",
    "    if mycursor is not None:\n",
    "        mycursor.execute(ddl)\n",
    "    return ddl\n",
    "\n",
    "# generate and execute CREATE TABLE DDL for specified CSV\n",
    "#\n",
    "def create_raw_table(mycursor, tablename, csvfile):\n",
    "    with open(csvfile, encoding='utf-8') as f: \n",
    "        r = reader(f)\n",
    "        fields = next(r)\n",
    "        \n",
    "    ddl = 'CREATE TABLE `{}` (\\n'.format(tablename)\n",
    "    for field in fields:\n",
    "        # truncate to 64 and lower case for MYSQL\n",
    "        ddl += \"`{}` TEXT NULL,\\n\".format(field.lower()[:64].strip())\n",
    "    ddl = ddl[:-2] + \");\" # remove last ',\\n'\n",
    "    if mycursor is not None:\n",
    "        mycursor.execute(ddl)\n",
    "    return ddl\n",
    "\n",
    "# generate and execute LOAD DATA DDL for specified csv file\n",
    "# \n",
    "def load_raw_table(mycursor, tablename, csvfile):\n",
    "    ddl = \"LOAD DATA INFILE '{}'\\n\".format(csvfile) \n",
    "    ddl += \"REPLACE INTO TABLE `{}`\\n\".format(tablename)\n",
    "    ddl += \"\"\"FIELDS TERMINATED BY ',' OPTIONALLY ENCLOSED BY '\"'\\n\"\"\"\n",
    "    ddl += \"LINES TERMINATED BY '\\\\n' \\n\"\n",
    "    ddl += \"IGNORE 1 LINES; \"\n",
    "    if mycursor is not None:\n",
    "        mycursor.execute(ddl)\n",
    "    return ddl\n",
    "\n",
    "print(drop_raw_table(None, 'jx5n-jk6m') + '\\n')\n",
    "print(create_raw_table(None, 'jx5n-jk6m', './jx5n-jk6m.csv') + '\\n')\n",
    "print(load_raw_table(None, 'jx5n-jk6m', './jx5n-jk6m.csv') + '\\n')"
   ]
  },
  {
   "cell_type": "markdown",
   "metadata": {},
   "source": [
    "#### Now we need a database connection"
   ]
  },
  {
   "cell_type": "code",
   "execution_count": 2,
   "metadata": {},
   "outputs": [],
   "source": [
    "class MyDB:\n",
    "    def __init__(self):\n",
    "        self._db_connection  = connector.connect(\n",
    "            host=config('MYSQL_HOST'),\n",
    "            port=config('MYSQL_PORT'),\n",
    "            user=config('MYSQL_USER'),\n",
    "            password=config('MYSQL_PASSWORD'),\n",
    "            db='odde')\n",
    "        self._db_cur = self._db_connection.cursor()\n",
    "\n",
    "    def query(self, query, params=''):\n",
    "        return self._db_cur.execute(query, params)\n",
    "\n",
    "    def __del__(self):\n",
    "        self._db_connection.close()\n",
    "        \n",
    "mydb = MyDB()"
   ]
  },
  {
   "cell_type": "markdown",
   "metadata": {},
   "source": [
    "#### create and load a CSV into a MYSQL table"
   ]
  },
  {
   "cell_type": "code",
   "execution_count": 3,
   "metadata": {},
   "outputs": [
    {
     "name": "stdout",
     "output_type": "stream",
     "text": [
      "DROP TABLE IF EXISTS `jx5n-jk6m-raw`;\n",
      "\n",
      "CREATE TABLE `jx5n-jk6m-raw` (\n",
      "`age range` TEXT NULL,\n",
      "`zip code` TEXT NULL,\n",
      "`city` TEXT NULL,\n",
      "`gender` TEXT NULL,\n",
      "`donors` TEXT NULL,\n",
      "`non-donors` TEXT NULL,\n",
      "`id card donors` TEXT NULL,\n",
      "`id card non-donors` TEXT NULL,\n",
      "`driver license donors` TEXT NULL,\n",
      "`driver license non-donors` TEXT NULL,\n",
      "`id card/driver license donors` TEXT NULL,\n",
      "`id card/driver license non-donors` TEXT NULL);\n",
      "\n",
      "LOAD DATA INFILE 'C:\\\\ProgramData\\\\MySQL\\\\MySQL Server 8.0\\\\Uploads\\\\de\\\\jx5n-jk6m.csv'\n",
      "REPLACE INTO TABLE `jx5n-jk6m-raw`\n",
      "FIELDS TERMINATED BY ',' OPTIONALLY ENCLOSED BY '\"'\n",
      "LINES TERMINATED BY '\\n' \n",
      "IGNORE 1 LINES; \n",
      "\n"
     ]
    }
   ],
   "source": [
    "def create_and_load(csvfile, tablename):\n",
    "    mycursor = mydb._db_cur\n",
    "    print(drop_raw_table(mycursor, tablename) + '\\n')\n",
    "    print(create_raw_table(mycursor, tablename, csvfile) + '\\n')\n",
    "    print(load_raw_table(mycursor, tablename , csvfile) + '\\n')\n",
    "\n",
    "# on windows we need to escape the backslash\n",
    "# TODO is there a platform-agnostic way to build this\n",
    "create_and_load(config('MYSQL_UPLOADS') + r'\\\\' + 'jx5n-jk6m.csv', 'jx5n-jk6m-raw')"
   ]
  },
  {
   "cell_type": "markdown",
   "metadata": {},
   "source": [
    "#### query the table we just created/loaded to make sure it worked"
   ]
  },
  {
   "cell_type": "code",
   "execution_count": 4,
   "metadata": {},
   "outputs": [
    {
     "name": "stdout",
     "output_type": "stream",
     "text": [
      "('71+', '19810', 'WILM', 'M', '0', '1', '0', '1', '0', '1', '0', '0')\n",
      "('71+', '19805', 'WILMDE', 'F', '0', '1', '0', '1', '0', '1', '0', '0')\n",
      "('56-60', '19973', 'BLADES', 'M', '1', '1', '0', '2', '1', '1', '0', '0')\n",
      "('71+', '19804', 'WILMINGTON 5', 'M', '0', '1', '0', '1', '0', '1', '0', '0')\n",
      "('18-20', '19808', 'MARSHALLTON', 'M', '1', '1', '0', '2', '1', '1', '0', '0')\n"
     ]
    }
   ],
   "source": [
    "mycursor = mydb._db_cur\n",
    "mycursor.execute(\"select * from `jx5n-jk6m-raw` limit 5\")\n",
    "myresult = mycursor.fetchall()\n",
    "for x in myresult:\n",
    "    print(x)  "
   ]
  },
  {
   "cell_type": "markdown",
   "metadata": {},
   "source": [
    "#### why is this useful? we can use SQL!\n",
    "\n",
    "#### aggregations for example - assuming we have loaded other datasets from Socrata\n",
    "e.g. looking at the state's checkbook"
   ]
  },
  {
   "cell_type": "code",
   "execution_count": 5,
   "metadata": {},
   "outputs": [
    {
     "name": "stdout",
     "output_type": "stream",
     "text": [
      "('2014', '2', 'DEPT OF EDUCATION', 'E REACH ACADEMY FOR GIRLS', '1 800 PACK RAT', 'EQUIPMENT RENTAL', 'GENERAL', '640728', '08/08/2013', '300.88')\n",
      "('2014', '2', 'DEPT OF EDUCATION', 'E REACH ACADEMY FOR GIRLS', '1 800 PACK RAT', 'EQUIPMENT RENTAL', 'GENERAL', '640728', '08/08/2013', '298.02')\n",
      "('2014', '6', 'EXECUTIVE', 'MAIL/COURIER SERVICES', '100 ENTERPRISE DRIVE', 'OTHER PROFESSIONAL SERVICE', 'GENERAL', '714962', '12/30/2013', '1361.70')\n",
      "('2014', '6', 'EXECUTIVE', 'FLEET MANAGEMENT', '100 ENTERPRISE DRIVE', 'OTHER PROFESSIONAL SERVICE', 'SPECIAL', '714962', '12/30/2013', '3252.95')\n",
      "('2014', '6', 'EXECUTIVE', 'SERVICE & INFO GUIDE(SIG)', '100 ENTERPRISE DRIVE', 'OTHER PROFESSIONAL SERVICE', 'GENERAL', '714962', '12/30/2013', '75.65')\n",
      "\n",
      " top payees for 2014\n",
      "\n",
      "('EMPLOYEE COMPENSATION', 1951705229.170117)\n",
      "('HP ENTERPRISE SVCS LLC', 1708497148.7099996)\n",
      "('OTHER EMPLOYMENT COSTS BENEFITS', 971788663.5100665)\n",
      "('HIGHMARK HEALTH SERVICES', 455946734.41999996)\n",
      "('NORTHERN TRUST COMPANY', 299631382.72999996)\n"
     ]
    }
   ],
   "source": [
    "# fetch a few records from the checkbook to see what they look like\n",
    "mycursor.execute(\"select * from `5s6n-7hpx-raw` limit 5\")\n",
    "myresult = mycursor.fetchall()\n",
    "for x in myresult:\n",
    "    print(x) \n",
    "\n",
    "# find totals by payees for 2014, ranked in descending order\n",
    "print (\"\\n top payees for 2014\\n\")\n",
    "mycursor.execute(\"select vendor, sum(amount) from `5s6n-7hpx-raw` where `fiscal year`='2014' group by vendor order by 2 desc limit 5\")\n",
    "myresult = mycursor.fetchall()\n",
    "for x in myresult:\n",
    "    print(x) \n"
   ]
  },
  {
   "cell_type": "markdown",
   "metadata": {},
   "source": [
    "#### how about joining related datasets - so much easier in SQL than in Pandas!\n",
    "\n",
    "https://data.delaware.gov/Licenses-and-Certifications/Disciplinary-Actions-for-Professional-and-Occupati/dz6p-akeq/data  \n",
    "https://data.delaware.gov/Licenses-and-Certifications/Professional-and-Occupational-Licensing/pjnv-eaih/data  \n",
    "\n",
    "we can join the occupational licensing dataset to the disciplinary dataset to learn a little "
   ]
  },
  {
   "cell_type": "code",
   "execution_count": 6,
   "metadata": {},
   "outputs": [
    {
     "name": "stdout",
     "output_type": "stream",
     "text": [
      "('Adult Entertainment', 3, Decimal('1'), Decimal('33.33333'))\n",
      "('Pilots', 33, Decimal('3'), Decimal('9.09091'))\n",
      "('Real Estate Appraisers', 764, Decimal('54'), Decimal('7.06806'))\n",
      "('Land Surveyors', 362, Decimal('24'), Decimal('6.62983'))\n",
      "('Architecture', 1906, Decimal('117'), Decimal('6.13851'))\n",
      "('Home Inspectors', 138, Decimal('8'), Decimal('5.79710'))\n",
      "('Podiatry', 117, Decimal('3'), Decimal('2.56410'))\n",
      "('Chiropractic', 312, Decimal('8'), Decimal('2.56410'))\n",
      "('Funeral Services', 280, Decimal('7'), Decimal('2.50000'))\n",
      "('Mental Health', 712, Decimal('17'), Decimal('2.38764'))\n",
      "('Landscape Architecture', 211, Decimal('5'), Decimal('2.36967'))\n",
      "('Real Estate', 6466, Decimal('153'), Decimal('2.36622'))\n",
      "('Massage Bodywork', 1078, Decimal('25'), Decimal('2.31911'))\n",
      "('Nursing Home Administrators', 174, Decimal('4'), Decimal('2.29885'))\n",
      "('Cosmetology and Barbering', 7279, Decimal('162'), Decimal('2.22558'))\n",
      "('Occupational Therapy', 885, Decimal('18'), Decimal('2.03390'))\n",
      "('Psychology', 599, Decimal('12'), Decimal('2.00334'))\n",
      "('Speech and Hearing', 904, Decimal('16'), Decimal('1.76991'))\n",
      "('Medical Practice', 8801, Decimal('130'), Decimal('1.47710'))\n",
      "('Electrical Examiners', 5424, Decimal('70'), Decimal('1.29056'))\n",
      "('Veterinary Medicine', 970, Decimal('12'), Decimal('1.23711'))\n",
      "('Social Work Examiners', 914, Decimal('11'), Decimal('1.20350'))\n",
      "('Pharmacy', 4345, Decimal('52'), Decimal('1.19678'))\n",
      "('Nursing', 24682, Decimal('275'), Decimal('1.11417'))\n",
      "('Dentistry', 1567, Decimal('17'), Decimal('1.08488'))\n",
      "('Optometry', 185, Decimal('2'), Decimal('1.08108'))\n",
      "('Geologists', 292, Decimal('2'), Decimal('0.68493'))\n",
      "('Physical Therapy/Athletic Trg', 2218, Decimal('13'), Decimal('0.58611'))\n",
      "('Plumbing/HVACR', 1972, Decimal('8'), Decimal('0.40568'))\n",
      "('Accountancy', 11884, Decimal('45'), Decimal('0.37866'))\n",
      "('Charitable Gaming', 434, Decimal('1'), Decimal('0.23041'))\n",
      "('Controlled Substances', 7204, Decimal('8'), Decimal('0.11105'))\n",
      "('Manufactured Home Installation', 41, Decimal('0'), Decimal('0.00000'))\n",
      "('Deadly Weapons Dealers', 101, Decimal('0'), Decimal('0.00000'))\n",
      "('Combative Sports', 2, Decimal('0'), Decimal('0.00000'))\n",
      "('Dietitians/Nutritionists', 385, Decimal('0'), Decimal('0.00000'))\n"
     ]
    }
   ],
   "source": [
    "# create a couple of indexes to speed things up\n",
    "# mycursor.execute(\"create index index1 on odde.`dz6p-akeq-raw`(license_no(16))\")\n",
    "# mycursor.execute(\"create index index1 on odde.`pjnv-eaih-raw`(license_no(16))\")\n",
    "\n",
    "mycursor.execute(\"\"\"select lic.profession_id, count(*) as licensees,\n",
    "    sum(exists(select * from odde.`dz6p-akeq-raw` disc where disc.license_no=lic.license_no)) as violations,\n",
    "    100.0 * sum(exists(select * from odde.`dz6p-akeq-raw` disc where disc.license_no=lic.license_no))/count(*) as rate\n",
    "    from odde.`pjnv-eaih-raw` lic\n",
    "    where lic.license_status='Active'\n",
    "    group by lic.profession_id\n",
    "    order by rate desc\"\"\")\n",
    "\n",
    "myresult = mycursor.fetchall()\n",
    "for x in myresult:\n",
    "    print(x) "
   ]
  },
  {
   "cell_type": "code",
   "execution_count": null,
   "metadata": {},
   "outputs": [],
   "source": []
  }
 ],
 "metadata": {
  "kernelspec": {
   "display_name": "Python 3",
   "language": "python",
   "name": "python3"
  },
  "language_info": {
   "codemirror_mode": {
    "name": "ipython",
    "version": 3
   },
   "file_extension": ".py",
   "mimetype": "text/x-python",
   "name": "python",
   "nbconvert_exporter": "python",
   "pygments_lexer": "ipython3",
   "version": "3.7.1"
  }
 },
 "nbformat": 4,
 "nbformat_minor": 2
}
