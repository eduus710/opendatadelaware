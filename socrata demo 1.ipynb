{
 "cells": [
  {
   "cell_type": "markdown",
   "metadata": {},
   "source": [
    "### Using the Socrata API to access the Delaware Data Portal\n",
    "\n",
    "#### Why?\n",
    "- Programmatically access meta-data about datasets\n",
    "- Bulk retrieval of a collection of datasets\n",
    "\n",
    "#### Resources\n",
    "- http://dev.socrata.com\n",
    "- http://data.delaware.gov"
   ]
  },
  {
   "cell_type": "code",
   "execution_count": 6,
   "metadata": {},
   "outputs": [],
   "source": [
    "import requests"
   ]
  },
  {
   "cell_type": "markdown",
   "metadata": {},
   "source": [
    "#### Let's retrieve the portal data catalog"
   ]
  },
  {
   "cell_type": "code",
   "execution_count": 7,
   "metadata": {},
   "outputs": [
    {
     "data": {
      "text/plain": [
       "{'resource': {'name': 'Delaware Business Licenses',\n",
       "  'id': '5zy2-grhr',\n",
       "  'parent_fxf': None,\n",
       "  'description': 'Information for businesses currently licensed in Delaware.',\n",
       "  'attribution': 'Department of Finance, Division of Revenue',\n",
       "  'type': 'dataset',\n",
       "  'updatedAt': '2019-02-15T12:45:59.000Z',\n",
       "  'createdAt': '2016-11-02T18:20:04.000Z',\n",
       "  'page_views': {'page_views_last_week': 1892,\n",
       "   'page_views_last_month': 9787,\n",
       "   'page_views_total': 166270,\n",
       "   'page_views_last_week_log': 10.886458695703706,\n",
       "   'page_views_last_month_log': 13.25679838607939,\n",
       "   'page_views_total_log': 17.34317703870508},\n",
       "  'columns_name': ['License number',\n",
       "   'Country',\n",
       "   'Geocoded Location',\n",
       "   'City',\n",
       "   'Address 2',\n",
       "   'Zip',\n",
       "   'State',\n",
       "   'Current license valid from',\n",
       "   'Address 1',\n",
       "   'Current license valid to',\n",
       "   'Business name',\n",
       "   'Business Activity',\n",
       "   'Trade name'],\n",
       "  'columns_field_name': ['license_number',\n",
       "   'country',\n",
       "   'geocoded_location',\n",
       "   'city',\n",
       "   'address_2',\n",
       "   'zip',\n",
       "   'state',\n",
       "   'current_license_valid_from',\n",
       "   'address_1',\n",
       "   'current_license_valid_to',\n",
       "   'business_name',\n",
       "   'category',\n",
       "   'trade_name'],\n",
       "  'columns_datatype': ['Number',\n",
       "   'Text',\n",
       "   'Location',\n",
       "   'Text',\n",
       "   'Text',\n",
       "   'Text',\n",
       "   'Text',\n",
       "   'Calendar date',\n",
       "   'Text',\n",
       "   'Calendar date',\n",
       "   'Text',\n",
       "   'Text',\n",
       "   'Text'],\n",
       "  'columns_description': ['The license number assigned by the State of Delaware ',\n",
       "   'The country of the business address',\n",
       "   'A combination of Address 2, City, State and Zip Code so that the data could be mapped.',\n",
       "   'The city of the business address.',\n",
       "   'The second line of the address block.',\n",
       "   'The zip code of the business address',\n",
       "   'The state of the business address.',\n",
       "   'The start date that the business license is valid from.',\n",
       "   'The first line of the address block.',\n",
       "   'The expiration date of the business license.',\n",
       "   'The official name of the business entity.',\n",
       "   'The business code description',\n",
       "   'The “Doing Business As” name.'],\n",
       "  'columns_format': [{'precisionStyle': 'standard',\n",
       "    'noCommas': 'true',\n",
       "    'align': 'right'},\n",
       "   {'displayStyle': 'plain', 'align': 'left'},\n",
       "   {'view': 'address_coords', 'align': 'left'},\n",
       "   {'displayStyle': 'plain', 'align': 'left'},\n",
       "   {'displayStyle': 'plain', 'align': 'left'},\n",
       "   {'displayStyle': 'plain', 'align': 'left'},\n",
       "   {'displayStyle': 'plain', 'align': 'left'},\n",
       "   {'view': 'date', 'align': 'left'},\n",
       "   {'displayStyle': 'plain', 'align': 'left'},\n",
       "   {'view': 'date', 'align': 'left'},\n",
       "   {'displayStyle': 'plain', 'align': 'left'},\n",
       "   {'displayStyle': 'plain', 'align': 'left'},\n",
       "   {'displayStyle': 'plain', 'align': 'left'}],\n",
       "  'download_count': 6011,\n",
       "  'provenance': 'official'},\n",
       " 'classification': {'categories': [],\n",
       "  'tags': [],\n",
       "  'domain_category': 'Licenses and Certifications',\n",
       "  'domain_tags': ['business', 'delaware', 'search', 'license'],\n",
       "  'domain_metadata': [{'key': 'Additional-Information_Frequency-of-publishing',\n",
       "    'value': 'Weekly'},\n",
       "   {'key': 'Additional-Information_Temporal-Coverage',\n",
       "    'value': 'current data'},\n",
       "   {'key': 'Additional-Information_Geographic-Unit',\n",
       "    'value': 'Street Address'}]},\n",
       " 'metadata': {'domain': 'data.delaware.gov', 'license': 'Public Domain'},\n",
       " 'permalink': 'https://data.delaware.gov/d/5zy2-grhr',\n",
       " 'link': 'https://data.delaware.gov/Licenses-and-Certifications/Delaware-Business-Licenses/5zy2-grhr',\n",
       " 'owner': {'id': 'thy9-8afe', 'display_name': 'DE Open Data'}}"
      ]
     },
     "execution_count": 7,
     "metadata": {},
     "output_type": "execute_result"
    }
   ],
   "source": [
    "# Retrieve DDG catalog from socrata\n",
    "# returns JSON \n",
    "resp = requests.get(\"http://api.us.socrata.com/api/catalog/v1?domains=data.delaware.gov\")\n",
    "catalog = resp.json()\n",
    "\n",
    "# inspect the first result element\n",
    "catalog['results'][0]"
   ]
  },
  {
   "cell_type": "markdown",
   "metadata": {},
   "source": [
    "#### We can easily walk the catalog to get a list of dataset ids and descriptions"
   ]
  },
  {
   "cell_type": "code",
   "execution_count": 8,
   "metadata": {},
   "outputs": [
    {
     "data": {
      "text/plain": [
       "('5zy2-grhr',\n",
       " 'Delaware Business Licenses',\n",
       " 'Information for businesses currently licensed in Delaware.')"
      ]
     },
     "execution_count": 8,
     "metadata": {},
     "output_type": "execute_result"
    }
   ],
   "source": [
    "datasets = [(res['id'],res['name'],res['description']) \n",
    "            for res in [result['resource'] for result in catalog['results']]\n",
    "            if res['type'] == 'dataset']\n",
    "\n",
    "#inspect the first element\n",
    "datasets[0]"
   ]
  },
  {
   "cell_type": "markdown",
   "metadata": {},
   "source": [
    "#### we can also grab a dataset, as JSON or CSV\n",
    "\n",
    "Here we grab as JSON\n",
    "\n",
    "Note: data is paginated, limited to 50K per page"
   ]
  },
  {
   "cell_type": "code",
   "execution_count": 9,
   "metadata": {},
   "outputs": [
    {
     "name": "stdout",
     "output_type": "stream",
     "text": [
      "1000 records\n",
      "{'districtname': 'State of Delaware', 'schoolyear': '2018', 'grade': 'Adult Education', 'districtcode': '0', 'schoolcode': '0', 'schoolname': 'State of Delaware', 'demographic': 'All Students'}\n"
     ]
    }
   ],
   "source": [
    "offset = 0\n",
    "limit = 1000\n",
    "resp = requests.get(\"https://data.delaware.gov/resource/{}.json?$limit={}&$offset={}\".format('v6xy-7sgx', limit, offset))\n",
    "data = resp.json()\n",
    "\n",
    "print(\"{} records\".format(len(data)))\n",
    "print(data[0])"
   ]
  },
  {
   "cell_type": "markdown",
   "metadata": {},
   "source": [
    "#### need a loop to fetch an entire dataset"
   ]
  },
  {
   "cell_type": "code",
   "execution_count": 10,
   "metadata": {},
   "outputs": [
    {
     "name": "stdout",
     "output_type": "stream",
     "text": [
      "working...\n",
      "working...\n",
      "working...\n",
      "working...\n",
      "working...\n",
      "working...\n",
      "working...\n",
      "working...\n",
      "working...\n",
      "working...\n",
      "working...\n",
      "225763 records\n",
      "{'districtname': 'State of Delaware', 'schoolyear': '2018', 'grade': 'Adult Education', 'districtcode': '0', 'schoolcode': '0', 'schoolname': 'State of Delaware', 'demographic': 'All Students'}\n"
     ]
    }
   ],
   "source": [
    "more = True\n",
    "dataset = []\n",
    "limit = 25000\n",
    "offset = 0\n",
    "while more:\n",
    "    print(\"working...\")\n",
    "    resp = requests.get(\"https://data.delaware.gov/resource/{}.json?$limit={}&$offset={}\".format('v6xy-7sgx', limit, offset))\n",
    "    data = resp.json()\n",
    "    if (len(data) > 0):\n",
    "        dataset += data\n",
    "        offset += limit\n",
    "    else:\n",
    "        more = False\n",
    "\n",
    "print(\"{} records\".format(len(dataset)))\n",
    "print(dataset[0])"
   ]
  },
  {
   "cell_type": "code",
   "execution_count": null,
   "metadata": {},
   "outputs": [],
   "source": []
  }
 ],
 "metadata": {
  "kernelspec": {
   "display_name": "Python 3",
   "language": "python",
   "name": "python3"
  },
  "language_info": {
   "codemirror_mode": {
    "name": "ipython",
    "version": 3
   },
   "file_extension": ".py",
   "mimetype": "text/x-python",
   "name": "python",
   "nbconvert_exporter": "python",
   "pygments_lexer": "ipython3",
   "version": "3.7.1"
  }
 },
 "nbformat": 4,
 "nbformat_minor": 2
}
